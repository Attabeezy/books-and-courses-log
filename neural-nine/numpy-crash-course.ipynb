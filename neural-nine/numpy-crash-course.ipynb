{
 "cells": [
  {
   "cell_type": "code",
   "execution_count": 1,
   "id": "7bdae59b-113c-4c02-994c-e5cdc7330246",
   "metadata": {},
   "outputs": [],
   "source": [
    "import numpy as np"
   ]
  },
  {
   "cell_type": "code",
   "execution_count": 2,
   "id": "acd6a9f0-f44b-44f4-a823-82a01b322f8d",
   "metadata": {},
   "outputs": [
    {
     "name": "stdout",
     "output_type": "stream",
     "text": [
      "[1, 2, 3, 4, 5]\n",
      "2\n",
      "[2, 3, 4]\n"
     ]
    }
   ],
   "source": [
    "a = [1, 2, 3, 4, 5]\n",
    "print(a)\n",
    "print(a[1])\n",
    "print(a[1:4])"
   ]
  },
  {
   "cell_type": "code",
   "execution_count": 3,
   "id": "03f80d18-4323-46a8-859e-73402b223f69",
   "metadata": {},
   "outputs": [
    {
     "name": "stdout",
     "output_type": "stream",
     "text": [
      "[1 2 3 4 5]\n",
      "2\n",
      "[2 3 4]\n"
     ]
    }
   ],
   "source": [
    "a = np.array([1,2,3,4,5])\n",
    "print(a)\n",
    "print(a[1])\n",
    "print(a[1:4])"
   ]
  },
  {
   "cell_type": "code",
   "execution_count": 4,
   "id": "dff56061-e0b0-4a7c-9c4a-a5ae3160c7e9",
   "metadata": {},
   "outputs": [
    {
     "name": "stdout",
     "output_type": "stream",
     "text": [
      "[ 1  2 10  4  5]\n"
     ]
    }
   ],
   "source": [
    "a[2] = 10\n",
    "print(a)"
   ]
  },
  {
   "cell_type": "code",
   "execution_count": 5,
   "id": "fcd5c4cb-0509-4218-9242-5f6cf4cd6eb4",
   "metadata": {},
   "outputs": [
    {
     "name": "stdout",
     "output_type": "stream",
     "text": [
      "[[1 2 3 1]\n",
      " [4 5 6 1]\n",
      " [7 8 9 1]]\n",
      "[4 5 6 1]\n"
     ]
    }
   ],
   "source": [
    "a_mul = np.array([[[1, 2, 3, 1], [4, 5, 6, 1], [7, 8, 9, 1]], [[1, 2, 3, 1], [4, 5, 6, 1], [7, 8, 9, 1]]])\n",
    "print(a_mul[0])\n",
    "print(a_mul[0, 1])"
   ]
  },
  {
   "cell_type": "code",
   "execution_count": 6,
   "id": "bb01cb67-c42d-41b3-a89b-264918d7c1d6",
   "metadata": {},
   "outputs": [
    {
     "name": "stdout",
     "output_type": "stream",
     "text": [
      "(2, 3, 4)\n",
      "3\n",
      "24\n",
      "int64\n"
     ]
    }
   ],
   "source": [
    "print(a_mul.shape)\n",
    "print(a_mul.ndim)\n",
    "print(a_mul.size)\n",
    "print(a_mul.dtype)"
   ]
  },
  {
   "cell_type": "code",
   "execution_count": 7,
   "id": "bdee1778-8ef9-499e-9d3d-8150dfc23309",
   "metadata": {},
   "outputs": [
    {
     "name": "stdout",
     "output_type": "stream",
     "text": [
      "float32\n"
     ]
    }
   ],
   "source": [
    "a = np.array([[1, 2, 3],\n",
    "            [4, \"5\", 6],\n",
    "            [7, 8, 9]], dtype = np.float32)\n",
    "print(a.dtype)"
   ]
  },
  {
   "cell_type": "code",
   "execution_count": 8,
   "id": "44c17284-4e87-4b7c-993f-d2e779f1db11",
   "metadata": {},
   "outputs": [
    {
     "name": "stdout",
     "output_type": "stream",
     "text": [
      "float32\n",
      "<class 'numpy.float32'>\n",
      "1.0\n"
     ]
    }
   ],
   "source": [
    "print(a[1][1].dtype)\n",
    "print(type(a[0][0]))\n",
    "print(a[0, 0])"
   ]
  },
  {
   "cell_type": "code",
   "execution_count": 9,
   "id": "4023ad44-5ec0-4183-b5ba-55ae3394b140",
   "metadata": {},
   "outputs": [
    {
     "name": "stdout",
     "output_type": "stream",
     "text": [
      "[[[9 9 9 9]\n",
      "  [9 9 9 9]\n",
      "  [9 9 9 9]]\n",
      "\n",
      " [[9 9 9 9]\n",
      "  [9 9 9 9]\n",
      "  [9 9 9 9]]]\n",
      "(2, 3, 4)\n",
      "[[[0. 0. 0. 0. 0. 0. 0.]\n",
      "  [0. 0. 0. 0. 0. 0. 0.]\n",
      "  [0. 0. 0. 0. 0. 0. 0.]]\n",
      "\n",
      " [[0. 0. 0. 0. 0. 0. 0.]\n",
      "  [0. 0. 0. 0. 0. 0. 0.]\n",
      "  [0. 0. 0. 0. 0. 0. 0.]]]\n"
     ]
    }
   ],
   "source": [
    "a = np.full((2, 3, 4), 9)\n",
    "print(a)\n",
    "print(a.shape)\n",
    "a = np.zeros((2, 3, 7))\n",
    "print(a)"
   ]
  },
  {
   "cell_type": "code",
   "execution_count": 10,
   "id": "057c7465-56a4-47f0-913f-2166bcd36bd1",
   "metadata": {
    "scrolled": true
   },
   "outputs": [
    {
     "name": "stdout",
     "output_type": "stream",
     "text": [
      "[[[0. 0. 0. 0. 0.]\n",
      "  [0. 0. 0. 0. 0.]\n",
      "  [0. 0. 0. 0. 0.]\n",
      "  [0. 0. 0. 0. 0.]\n",
      "  [0. 0. 0. 0. 0.]]\n",
      "\n",
      " [[0. 0. 0. 0. 0.]\n",
      "  [0. 0. 0. 0. 0.]\n",
      "  [0. 0. 0. 0. 0.]\n",
      "  [0. 0. 0. 0. 0.]\n",
      "  [0. 0. 0. 0. 0.]]\n",
      "\n",
      " [[0. 0. 0. 0. 0.]\n",
      "  [0. 0. 0. 0. 0.]\n",
      "  [0. 0. 0. 0. 0.]\n",
      "  [0. 0. 0. 0. 0.]\n",
      "  [0. 0. 0. 0. 0.]]\n",
      "\n",
      " [[0. 0. 0. 0. 0.]\n",
      "  [0. 0. 0. 0. 0.]\n",
      "  [0. 0. 0. 0. 0.]\n",
      "  [0. 0. 0. 0. 0.]\n",
      "  [0. 0. 0. 0. 0.]]\n",
      "\n",
      " [[0. 0. 0. 0. 0.]\n",
      "  [0. 0. 0. 0. 0.]\n",
      "  [0. 0. 0. 0. 0.]\n",
      "  [0. 0. 0. 0. 0.]\n",
      "  [0. 0. 0. 0. 0.]]]\n"
     ]
    }
   ],
   "source": [
    "a = np.empty((5, 5, 5))\n",
    "print(a)"
   ]
  },
  {
   "cell_type": "code",
   "execution_count": 59,
   "id": "31ef5700-4df1-4438-9961-7582a01c6c06",
   "metadata": {},
   "outputs": [
    {
     "name": "stdout",
     "output_type": "stream",
     "text": [
      "[   0    5   10   15   20   25   30   35   40   45   50   55   60   65\n",
      "   70   75   80   85   90   95  100  105  110  115  120  125  130  135\n",
      "  140  145  150  155  160  165  170  175  180  185  190  195  200  205\n",
      "  210  215  220  225  230  235  240  245  250  255  260  265  270  275\n",
      "  280  285  290  295  300  305  310  315  320  325  330  335  340  345\n",
      "  350  355  360  365  370  375  380  385  390  395  400  405  410  415\n",
      "  420  425  430  435  440  445  450  455  460  465  470  475  480  485\n",
      "  490  495  500  505  510  515  520  525  530  535  540  545  550  555\n",
      "  560  565  570  575  580  585  590  595  600  605  610  615  620  625\n",
      "  630  635  640  645  650  655  660  665  670  675  680  685  690  695\n",
      "  700  705  710  715  720  725  730  735  740  745  750  755  760  765\n",
      "  770  775  780  785  790  795  800  805  810  815  820  825  830  835\n",
      "  840  845  850  855  860  865  870  875  880  885  890  895  900  905\n",
      "  910  915  920  925  930  935  940  945  950  955  960  965  970  975\n",
      "  980  985  990  995 1000 1005 1010 1015 1020 1025 1030 1035 1040 1045\n",
      " 1050 1055 1060 1065 1070 1075 1080 1085 1090 1095 1100 1105 1110 1115\n",
      " 1120 1125 1130 1135 1140 1145 1150 1155 1160 1165 1170 1175 1180 1185\n",
      " 1190 1195]\n"
     ]
    }
   ],
   "source": [
    "x_values = np.arange(0, 1200, 5)\n",
    "print(x_values)"
   ]
  },
  {
   "cell_type": "code",
   "execution_count": 67,
   "id": "67872947-73d4-4b68-b872-a8732e2946dd",
   "metadata": {},
   "outputs": [
    {
     "name": "stdout",
     "output_type": "stream",
     "text": [
      "[   0.    1.    2. ...  998.  999. 1000.]\n"
     ]
    }
   ],
   "source": [
    "a = np.linspace(0, 1000, 1001)\n",
    "print(a)"
   ]
  },
  {
   "cell_type": "code",
   "execution_count": 73,
   "id": "5b8d76b0-7ebd-4227-b219-1cfb8989ea31",
   "metadata": {},
   "outputs": [
    {
     "name": "stdout",
     "output_type": "stream",
     "text": [
      "nan\n",
      "inf\n",
      "<class 'float'>\n",
      "<class 'float'>\n"
     ]
    }
   ],
   "source": [
    "print(np.nan)\n",
    "print(np.inf)\n",
    "print(type(np.nan))\n",
    "print(type(np.inf))"
   ]
  },
  {
   "cell_type": "code",
   "execution_count": 75,
   "id": "027ccf25-48a3-4897-a66c-798efd83135b",
   "metadata": {},
   "outputs": [
    {
     "name": "stdout",
     "output_type": "stream",
     "text": [
      "True\n",
      "False\n",
      "True\n",
      "False\n"
     ]
    }
   ],
   "source": [
    "print(np.isnan(np.nan))\n",
    "print(np.isnan(2))\n",
    "print(np.isinf(np.inf))\n",
    "print(np.isinf(5))"
   ]
  },
  {
   "cell_type": "code",
   "execution_count": 81,
   "id": "013853ae-5202-4548-b87a-079dbdaed8fb",
   "metadata": {},
   "outputs": [
    {
     "name": "stdout",
     "output_type": "stream",
     "text": [
      "[ True]\n"
     ]
    },
    {
     "name": "stderr",
     "output_type": "stream",
     "text": [
      "C:\\Users\\Dell\\AppData\\Local\\Temp\\ipykernel_30416\\3436478471.py:1: RuntimeWarning: divide by zero encountered in divide\n",
      "  print(np.isinf(np.array([10]) / 0))\n"
     ]
    }
   ],
   "source": [
    "print(np.isinf(np.array([10]) / 0))"
   ]
  },
  {
   "cell_type": "code",
   "execution_count": 83,
   "id": "d7cb0950-97a4-426f-8b6c-5bf0fe865ddb",
   "metadata": {},
   "outputs": [],
   "source": [
    "l1 = [1, 2, 3, 4, 5]\n",
    "l2 = [6, 7, 8, 9, 0]\n",
    "a1 = np.array(l1)\n",
    "a2 = np.array(l2)"
   ]
  },
  {
   "cell_type": "code",
   "execution_count": 95,
   "id": "257cae08-9804-4866-8052-7b37c4a4a433",
   "metadata": {},
   "outputs": [
    {
     "name": "stdout",
     "output_type": "stream",
     "text": [
      "[1, 2, 3, 4, 5, 1, 2, 3, 4, 5, 1, 2, 3, 4, 5, 1, 2, 3, 4, 5, 1, 2, 3, 4, 5]\n",
      "[ 5 10 15 20 25]\n",
      "[0.2 0.4 0.6 0.8 1. ]\n",
      "[ 7  9 11 13  5]\n"
     ]
    }
   ],
   "source": [
    "print(l1 * 5)\n",
    "print(a1 * 5)\n",
    "print(a1 / 5)\n",
    "print(a1 + l2)"
   ]
  },
  {
   "cell_type": "code",
   "execution_count": 101,
   "id": "04d79881-d03f-4422-a97c-1cd0b6d27285",
   "metadata": {},
   "outputs": [
    {
     "name": "stdout",
     "output_type": "stream",
     "text": [
      "(3,)\n",
      "(3, 1)\n",
      "[[2 3 4]\n",
      " [3 4 5]\n",
      " [4 5 6]]\n"
     ]
    }
   ],
   "source": [
    "a1 = np.array([1, 2, 3])\n",
    "a2 = np.array([[1],\n",
    "              [2],\n",
    "              [3]])\n",
    "print(a1.shape)\n",
    "print(a2.shape)\n",
    "print(a1 + a2)"
   ]
  },
  {
   "cell_type": "code",
   "execution_count": 105,
   "id": "c4c89695-6156-4960-a894-548cd8cab4d6",
   "metadata": {},
   "outputs": [
    {
     "name": "stdout",
     "output_type": "stream",
     "text": [
      "[[1.         1.41421356 1.73205081]\n",
      " [2.         2.23606798 2.44948974]]\n"
     ]
    }
   ],
   "source": [
    "a = np.array([[1, 2, 3],\n",
    "       [4, 5, 6]])\n",
    "print(np.sqrt(a))\n"
   ]
  },
  {
   "cell_type": "code",
   "execution_count": 107,
   "id": "197e4efc-9b4c-44d5-b253-35c1ae8e27cb",
   "metadata": {},
   "outputs": [
    {
     "name": "stdout",
     "output_type": "stream",
     "text": [
      "[[1.         1.41421356 1.73205081]\n",
      " [2.         2.23606798 2.44948974]]\n",
      "[[ 0.54030231 -0.41614684 -0.9899925 ]\n",
      " [-0.65364362  0.28366219  0.96017029]]\n",
      "[[ 0.84147098  0.90929743  0.14112001]\n",
      " [-0.7568025  -0.95892427 -0.2794155 ]]\n",
      "[[ 1.55740772 -2.18503986 -0.14254654]\n",
      " [ 1.15782128 -3.38051501 -0.29100619]]\n",
      "[[0.         0.69314718 1.09861229]\n",
      " [1.38629436 1.60943791 1.79175947]]\n",
      "[[0.         1.         1.5849625 ]\n",
      " [2.         2.32192809 2.5849625 ]]\n"
     ]
    }
   ],
   "source": [
    "print(np.sqrt(a))\n",
    "print(np.cos(a))\n",
    "print(np.sin(a))\n",
    "print(np.tan(a))\n",
    "print(np.log(a))\n",
    "print(np.log2(a))"
   ]
  },
  {
   "cell_type": "code",
   "execution_count": 111,
   "id": "76932764-bc21-4d79-b287-bcec1d050a5e",
   "metadata": {},
   "outputs": [],
   "source": [
    "a = np.array([1, 2, 3])\n",
    "a = np.append(a, [7, 8, 9])"
   ]
  },
  {
   "cell_type": "code",
   "execution_count": 113,
   "id": "5f91bd99-9cd2-4b78-98f1-20f009cd9fdd",
   "metadata": {},
   "outputs": [
    {
     "name": "stdout",
     "output_type": "stream",
     "text": [
      "[1 2 3 7 8 9]\n"
     ]
    }
   ],
   "source": [
    "print(a)"
   ]
  },
  {
   "cell_type": "code",
   "execution_count": 117,
   "id": "a53aca7c-d96d-4941-929f-b0d25277e135",
   "metadata": {},
   "outputs": [
    {
     "name": "stdout",
     "output_type": "stream",
     "text": [
      "[1 2 3 4 5 6 7 8 9]\n"
     ]
    }
   ],
   "source": [
    "a = np.insert(a, 3, [4, 5, 6])\n",
    "print(a)"
   ]
  },
  {
   "cell_type": "code",
   "execution_count": 123,
   "id": "0ee87753-6836-4f0e-94ab-89e99d1a844f",
   "metadata": {},
   "outputs": [
    {
     "name": "stdout",
     "output_type": "stream",
     "text": [
      "[1 4 5 6 7 8 9]\n"
     ]
    }
   ],
   "source": [
    "a = np.delete(a, 1)\n",
    "print(a)"
   ]
  },
  {
   "cell_type": "code",
   "execution_count": 143,
   "id": "50625c9e-52d4-4dce-baee-cc4077a4c8ae",
   "metadata": {},
   "outputs": [
    {
     "name": "stdout",
     "output_type": "stream",
     "text": [
      "[[1 2]\n",
      " [4 5]]\n"
     ]
    }
   ],
   "source": [
    "a = np.array([[1, 2, 3],\n",
    "              [4, 5, 6]])\n",
    "print(np.delete(a, 2, 1))"
   ]
  },
  {
   "cell_type": "code",
   "execution_count": 171,
   "id": "c8105c13-687b-4cda-acbf-d406c6af4360",
   "metadata": {},
   "outputs": [
    {
     "name": "stdout",
     "output_type": "stream",
     "text": [
      "(4, 5)\n",
      "[[ 1  2  3  4]\n",
      " [ 5  6  7  8]\n",
      " [ 9 10 11 12]\n",
      " [13 14 15 16]\n",
      " [17 18 19 20]]\n",
      "[ 1  2  3  4  5  6  7  8  9 10 11 12 13 14 15 16 17 18 19 20]\n",
      "[[ 1  2]\n",
      " [ 3  4]\n",
      " [ 5  6]\n",
      " [ 7  8]\n",
      " [ 9 10]\n",
      " [11 12]\n",
      " [13 14]\n",
      " [15 16]\n",
      " [17 18]\n",
      " [19 20]]\n",
      "[[[ 1  2]\n",
      "  [ 3  4]]\n",
      "\n",
      " [[ 5  6]\n",
      "  [ 7  8]]\n",
      "\n",
      " [[ 9 10]\n",
      "  [11 12]]\n",
      "\n",
      " [[13 14]\n",
      "  [15 16]]\n",
      "\n",
      " [[17 18]\n",
      "  [19 20]]]\n"
     ]
    }
   ],
   "source": [
    "a = np.array([[1, 2, 3, 4, 5],\n",
    "             [6, 7, 8, 9, 10],\n",
    "             [11, 12, 13, 14, 15],\n",
    "             [16, 17, 18, 19, 20]])\n",
    "\n",
    "print(a.shape)\n",
    "print(a.reshape((5, 4)))\n",
    "print(a.reshape(20,))\n",
    "print(a.reshape(10, 2))\n",
    "print(a.reshape(5, 2, 2))"
   ]
  },
  {
   "cell_type": "code",
   "execution_count": 179,
   "id": "a93bb39d-1365-43bd-8cc7-2ae9b8b62446",
   "metadata": {},
   "outputs": [
    {
     "name": "stdout",
     "output_type": "stream",
     "text": [
      "[[ 1  2  3  4  5]\n",
      " [ 6  7  8  9 10]\n",
      " [11 12 13 14 15]\n",
      " [16 17 18 19 20]]\n",
      "[[ 1  2  3  4  5]\n",
      " [ 6  7  8  9 10]\n",
      " [11 12 13 14 15]\n",
      " [16 17 18 19 20]]\n",
      "[[ 1  2  3  4]\n",
      " [ 5  6  7  8]\n",
      " [ 9 10 11 12]\n",
      " [13 14 15 16]\n",
      " [17 18 19 20]]\n"
     ]
    }
   ],
   "source": [
    "print(a)\n",
    "a.reshape(5, 4)\n",
    "print(a)\n",
    "a.resize(5, 4)\n",
    "print(a)"
   ]
  },
  {
   "cell_type": "code",
   "execution_count": 183,
   "id": "9f588f47-ad90-42db-b283-99f921cb4856",
   "metadata": {},
   "outputs": [
    {
     "name": "stdout",
     "output_type": "stream",
     "text": [
      "[ 1  2  3  4  5  6  7  8  9 10 11 12 13 14 15 16 17 18 19 20]\n",
      "[ 1  2  3  4  5  6  7  8  9 10 11 12 13 14 15 16 17 18 19 20]\n"
     ]
    }
   ],
   "source": [
    "print(a.flatten())\n",
    "print(a.ravel())"
   ]
  },
  {
   "cell_type": "code",
   "execution_count": 187,
   "id": "390d70f1-d1b0-4548-9447-10a4394c890d",
   "metadata": {},
   "outputs": [
    {
     "name": "stdout",
     "output_type": "stream",
     "text": [
      "[  1   2 100   4   5   6   7   8   9  10  11  12  13  14  15  16  17  18\n",
      "  19  20]\n",
      "[[ 1  2  3  4]\n",
      " [ 5  6  7  8]\n",
      " [ 9 10 11 12]\n",
      " [13 14 15 16]\n",
      " [17 18 19 20]]\n",
      "[  1   2 100   4   5   6   7   8   9  10  11  12  13  14  15  16  17  18\n",
      "  19  20]\n",
      "[[  1   2 100   4]\n",
      " [  5   6   7   8]\n",
      " [  9  10  11  12]\n",
      " [ 13  14  15  16]\n",
      " [ 17  18  19  20]]\n"
     ]
    }
   ],
   "source": [
    "var1 = a.flatten()\n",
    "var1[2] = 100\n",
    "print(var1)\n",
    "print(a)\n",
    "\n",
    "var1 = a.ravel()\n",
    "var1[2] = 100\n",
    "print(var1)\n",
    "print(a)"
   ]
  },
  {
   "cell_type": "code",
   "execution_count": 191,
   "id": "dd063517-7024-4c18-92c8-2038e3976d0c",
   "metadata": {},
   "outputs": [
    {
     "name": "stdout",
     "output_type": "stream",
     "text": [
      "[np.int64(1), np.int64(2), np.int64(100), np.int64(4), np.int64(5), np.int64(6), np.int64(7), np.int64(8), np.int64(9), np.int64(10), np.int64(11), np.int64(12), np.int64(13), np.int64(14), np.int64(15), np.int64(16), np.int64(17), np.int64(18), np.int64(19), np.int64(20)]\n"
     ]
    }
   ],
   "source": [
    "var = [v for v in a.flat]\n",
    "print(var)"
   ]
  },
  {
   "cell_type": "code",
   "execution_count": 199,
   "id": "32e28160-171d-41d3-9715-0606e7304274",
   "metadata": {},
   "outputs": [
    {
     "name": "stdout",
     "output_type": "stream",
     "text": [
      "[[  1   5   9  13  17]\n",
      " [  2   6  10  14  18]\n",
      " [100   7  11  15  19]\n",
      " [  4   8  12  16  20]]\n",
      "[[  1   5   9  13  17]\n",
      " [  2   6  10  14  18]\n",
      " [100   7  11  15  19]\n",
      " [  4   8  12  16  20]]\n",
      "[[  1   5   9  13  17]\n",
      " [  2   6  10  14  18]\n",
      " [100   7  11  15  19]\n",
      " [  4   8  12  16  20]]\n"
     ]
    }
   ],
   "source": [
    "print(a.transpose())\n",
    "print(a.T)\n",
    "print(a.swapaxes(0, 1))"
   ]
  },
  {
   "cell_type": "code",
   "execution_count": 203,
   "id": "7558d2b6-a0e7-4b6b-a1ce-582d5b6f2c34",
   "metadata": {},
   "outputs": [],
   "source": [
    "a = np.array([[1, 2, 3, 4, 5],\n",
    "             [6, 7, 8, 9, 10]])\n",
    "\n",
    "b = np.array([[11, 12, 13, 14, 15],\n",
    "             [16, 17, 18, 19, 20]])"
   ]
  },
  {
   "cell_type": "code",
   "execution_count": 237,
   "id": "8294a70b-a84f-4b8c-a4cb-47986c62e3b4",
   "metadata": {},
   "outputs": [
    {
     "name": "stdout",
     "output_type": "stream",
     "text": [
      "[[ 1  2  3  4  5]\n",
      " [ 6  7  8  9 10]\n",
      " [11 12 13 14 15]\n",
      " [16 17 18 19 20]]\n",
      "(2, 5)\n",
      "(2, 5)\n",
      "[[ 1  2  3  4  5]\n",
      " [ 6  7  8  9 10]\n",
      " [11 12 13 14 15]\n",
      " [16 17 18 19 20]]\n",
      "[[ 1  2  3  4  5 11 12 13 14 15]\n",
      " [ 6  7  8  9 10 16 17 18 19 20]]\n"
     ]
    }
   ],
   "source": [
    "ab = np.concatenate((a, b), axis=0)\n",
    "print(ab)\n",
    "\n",
    "print(a.shape)\n",
    "print(b.shape)\n",
    "ab = np.stack((a, b))\n",
    "\n",
    "ab = np.vstack((a, b))\n",
    "print(ab)\n",
    "ab = np.hstack((a, b))\n",
    "print(ab)"
   ]
  },
  {
   "cell_type": "code",
   "execution_count": 265,
   "id": "430ace46-f242-43c1-9c28-370646f0f330",
   "metadata": {},
   "outputs": [
    {
     "name": "stdout",
     "output_type": "stream",
     "text": [
      "[array([[1, 2],\n",
      "       [6, 7]]), array([[3, 4],\n",
      "       [8, 9]]), array([[ 5, 11],\n",
      "       [10, 16]]), array([[12, 13],\n",
      "       [17, 18]]), array([[14, 15],\n",
      "       [19, 20]])]\n"
     ]
    }
   ],
   "source": [
    "print(np.split(ab, 5, axis = 1))"
   ]
  },
  {
   "cell_type": "code",
   "execution_count": 267,
   "id": "d82c382b-5da4-4cd4-b38d-54eddd1b9c18",
   "metadata": {},
   "outputs": [
    {
     "name": "stdout",
     "output_type": "stream",
     "text": [
      "1\n",
      "10\n",
      "5.5\n",
      "2.8722813232690143\n",
      "55\n",
      "5.5\n"
     ]
    }
   ],
   "source": [
    "print(a.min())\n",
    "print(a.max())\n",
    "print(a.mean())\n",
    "print(a.std())\n",
    "print(a.sum())\n",
    "print(np.median(a))"
   ]
  },
  {
   "cell_type": "code",
   "execution_count": 295,
   "id": "2ff60beb-b508-45d2-a78b-fa892101c5db",
   "metadata": {},
   "outputs": [
    {
     "name": "stdout",
     "output_type": "stream",
     "text": [
      "[[[38 98 53 94 44]\n",
      "  [74 29 78 88 92]\n",
      "  [21 37  7 34 37]]\n",
      "\n",
      " [[49 90 96 13 58]\n",
      "  [91 90 67 68 44]\n",
      "  [18 26  2 93 99]]]\n"
     ]
    }
   ],
   "source": [
    "numbers = np.random.randint(0, 100, size=(2, 3, 5))\n",
    "print(numbers)"
   ]
  },
  {
   "cell_type": "code",
   "execution_count": 303,
   "id": "9079bac4-1a95-440f-b67d-735bdff95043",
   "metadata": {},
   "outputs": [
    {
     "name": "stdout",
     "output_type": "stream",
     "text": [
      "[[[ 5  6  6  6  8  7  6  9  5  6]\n",
      "  [ 3  5  5  7  5  3  3  4  5  7]\n",
      "  [ 6  4  5  5  4  4  7  5  5  7]\n",
      "  [ 4  6  6 10  6  8  6  5  4  2]\n",
      "  [ 5  5  5  5  6  3  8  6  6  4]]\n",
      "\n",
      " [[ 6  5  5  5  5  6  4  7  5  7]\n",
      "  [ 6  6  5  1  6  2  4  5  6  7]\n",
      "  [ 7  5  6  5  4  6  3  5  7  6]\n",
      "  [ 6  6  4  4  6  5  5  6  5  5]\n",
      "  [ 7  5  5  5  4  4  5  5  6  5]]\n",
      "\n",
      " [[ 9  5  3  8  3  6  6  5  6  4]\n",
      "  [ 5  5  7  6  4  8  7  1  4  4]\n",
      "  [ 3  5  3  3  6  4  5  4  4  6]\n",
      "  [ 5  9  5  6  7  5  5  6  4  8]\n",
      "  [ 6  5  6  3  3  5  2  7  4  5]]\n",
      "\n",
      " [[ 5  3  3  3  8  5  4  8  3  7]\n",
      "  [ 3  5  5  5  4  6  5  4  5  4]\n",
      "  [ 7  4  7  4  4  7  4  5  5  6]\n",
      "  [ 5  8  7  7  3  2  5  5  6  4]\n",
      "  [ 5  3  4  5  5  7  4  4  5  6]]\n",
      "\n",
      " [[ 5  6  2  3  4  6  5  6  3  4]\n",
      "  [ 6  8  4  5  4  4  7  7  5  5]\n",
      "  [ 5  7  6  3  5  6  5  5  6  5]\n",
      "  [ 3  4  6  5  4  5  6  5  2  3]\n",
      "  [ 8  7  5  4  6  5  4  4  5  3]]]\n"
     ]
    }
   ],
   "source": [
    "numbers = np.random.binomial(10, p=0.5, size=(5\n",
    "                                              , 5, 10))\n",
    "print(numbers)"
   ]
  },
  {
   "cell_type": "code",
   "execution_count": 309,
   "id": "c3d14d37-57d8-4927-8feb-2546411a3cf7",
   "metadata": {},
   "outputs": [
    {
     "name": "stdout",
     "output_type": "stream",
     "text": [
      "[[169.26842309 145.49843528 171.02646647 169.03493156 142.14550245\n",
      "  178.03501296 174.61532117 153.73421039 172.71989099 161.97619675]\n",
      " [159.54529465 161.79606467 169.14702557 170.30162047 149.75808629\n",
      "  152.8582114  188.60646157 153.29559397 164.28402549 174.49480344]\n",
      " [177.03325991 171.40862119 189.82778012 145.40990683 145.09554317\n",
      "  169.66446589 173.41223947 168.28795564 176.23973924 168.04770642]\n",
      " [162.75543229 173.58153695 152.05721689 156.32842774 148.77156715\n",
      "  188.20984859 163.89239911 172.23448844 169.78052764 159.79921319]\n",
      " [175.3067686  163.32092959 187.85571531 195.71210248 182.73578182\n",
      "  136.43854364 177.9540663  188.10199396 162.0765824  164.47884779]]\n"
     ]
    }
   ],
   "source": [
    "numbers = np.random.normal(loc=170, scale=15, size=(5, 10))\n",
    "print(numbers)"
   ]
  },
  {
   "cell_type": "code",
   "execution_count": 317,
   "id": "7cff9a44-4f66-4d05-9a0f-317a436bc64a",
   "metadata": {},
   "outputs": [
    {
     "name": "stdout",
     "output_type": "stream",
     "text": [
      "[[4 3 1]\n",
      " [2 1 1]]\n"
     ]
    }
   ],
   "source": [
    "numbers = np.random.choice([1, 2, 3, 4], size=(2,3))\n",
    "print(numbers)"
   ]
  },
  {
   "cell_type": "code",
   "execution_count": 323,
   "id": "03b4a12d-ac7a-4f44-9515-7436fcf1f274",
   "metadata": {},
   "outputs": [],
   "source": [
    "np.save(\"Downloads/myarray.npy\", numbers)"
   ]
  },
  {
   "cell_type": "code",
   "execution_count": 325,
   "id": "2cb6a562-fd6b-4187-b38b-38e9f16e3618",
   "metadata": {},
   "outputs": [
    {
     "name": "stdout",
     "output_type": "stream",
     "text": [
      "[[4 3 1]\n",
      " [2 1 1]]\n"
     ]
    }
   ],
   "source": [
    "a = np.load(\"Downloads/myarray.npy\")\n",
    "print(a)"
   ]
  },
  {
   "cell_type": "code",
   "execution_count": 327,
   "id": "bf22e53f-5e90-411f-a1d9-05a0f12bb31a",
   "metadata": {},
   "outputs": [],
   "source": [
    "np.savetxt(\"Downloads/myarray.csv\", numbers, delimiter=\",\")"
   ]
  },
  {
   "cell_type": "code",
   "execution_count": 333,
   "id": "a83ad4c5-2b30-49b6-8556-bfb74c05bfcd",
   "metadata": {},
   "outputs": [
    {
     "name": "stdout",
     "output_type": "stream",
     "text": [
      "[[4. 3. 1.]\n",
      " [2. 1. 1.]]\n"
     ]
    }
   ],
   "source": [
    "a = np.loadtxt(\"Downloads/myarray.csv\", delimiter=\",\")\n",
    "print(a)"
   ]
  }
 ],
 "metadata": {
  "kernelspec": {
   "display_name": "Python 3 (ipykernel)",
   "language": "python",
   "name": "python3"
  },
  "language_info": {
   "codemirror_mode": {
    "name": "ipython",
    "version": 3
   },
   "file_extension": ".py",
   "mimetype": "text/x-python",
   "name": "python",
   "nbconvert_exporter": "python",
   "pygments_lexer": "ipython3",
   "version": "3.12.3"
  }
 },
 "nbformat": 4,
 "nbformat_minor": 5
}
