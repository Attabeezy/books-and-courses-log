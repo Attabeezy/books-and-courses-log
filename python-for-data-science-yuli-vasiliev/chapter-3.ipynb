{
 "cells": [
  {
   "cell_type": "markdown",
   "id": "95af0ff5",
   "metadata": {},
   "source": [
    "# Python Data Science Libraries"
   ]
  },
  {
   "cell_type": "markdown",
   "id": "c8aa39b3",
   "metadata": {},
   "source": [
    "This chapter introduces you to three of the more popular data science libraries: NumPy, Pandas, Scikit-learn"
   ]
  },
  {
   "cell_type": "markdown",
   "id": "e92d2dc3",
   "metadata": {},
   "source": [
    "## Numpy\n",
    "- Numpy stands for numeric python library\n",
    "- It is used for working with arrays\n",
    "- Numpy arrays are like Python lists but they require less memory since they use optimized, precompiled C code\n",
    "- Numpy arrays support element-wise operations."
   ]
  },
  {
   "cell_type": "markdown",
   "id": "a437063b",
   "metadata": {},
   "source": [
    "### Creating a Numpy Array"
   ]
  },
  {
   "cell_type": "code",
   "execution_count": 1,
   "id": "43c3a464",
   "metadata": {},
   "outputs": [
    {
     "name": "stdout",
     "output_type": "stream",
     "text": [
      "[[2700 3000 3000]\n",
      " [2600 2800 2800]\n",
      " [2300 2500 2500]]\n"
     ]
    }
   ],
   "source": [
    "import numpy as np\n",
    "jeff_salary = [2700, 3000, 3000]\n",
    "nick_salary = [2600, 2800, 2800]\n",
    "tom_salary = [2300, 2500, 2500]\n",
    "base_salary = np.array([jeff_salary, nick_salary, tom_salary])\n",
    "print(base_salary)"
   ]
  },
  {
   "cell_type": "markdown",
   "id": "5da4f548",
   "metadata": {},
   "source": [
    "example: employee's monthly bonuses"
   ]
  },
  {
   "cell_type": "code",
   "execution_count": 2,
   "id": "c42b6af3",
   "metadata": {},
   "outputs": [],
   "source": [
    "jeff_bonus = [500, 400, 400]\n",
    "nick_bonus = [600, 300, 400]\n",
    "tom_bonus = [200, 500, 400]\n",
    "bonus = np.array([jeff_bonus, nick_bonus, tom_bonus])"
   ]
  },
  {
   "cell_type": "markdown",
   "id": "165070cf",
   "metadata": {},
   "source": [
    "Performing element-wise operations"
   ]
  },
  {
   "cell_type": "code",
   "execution_count": 3,
   "id": "2d03a208",
   "metadata": {},
   "outputs": [
    {
     "name": "stdout",
     "output_type": "stream",
     "text": [
      "<class 'numpy.ndarray'>\n",
      "[[3200 3400 3400]\n",
      " [3200 3100 3200]\n",
      " [2500 3000 2900]]\n"
     ]
    }
   ],
   "source": [
    "salary_bonus = base_salary + bonus\n",
    "print(type(salary_bonus))\n",
    "print(salary_bonus)"
   ]
  },
  {
   "cell_type": "markdown",
   "id": "5e03ca05",
   "metadata": {},
   "source": [
    "### Using Numpy for Statistical Functions\n",
    "- allows for statistical analysis on data"
   ]
  },
  {
   "cell_type": "code",
   "execution_count": 7,
   "id": "0b347cee",
   "metadata": {},
   "outputs": [
    {
     "name": "stdout",
     "output_type": "stream",
     "text": [
      "3400\n",
      "[3400 3200 3000]\n",
      "[3200 3400 3400]\n"
     ]
    }
   ],
   "source": [
    "# finding the maximum value in salary_bonus\n",
    "print(salary_bonus.max())\n",
    "\n",
    "# finding the maximum value of an array along a given axis\n",
    "# horizontal, x = 1 (maximum monthly amount paid to each employee in the past three months)\n",
    "maximum_for_employee = np.amax(salary_bonus, axis = 1)\n",
    "print(maximum_for_employee)\n",
    "\n",
    "# vertical, x = 0 (maximum amount received by an employee each month)\n",
    "maximum_for_month = np.amax(salary_bonus, axis = 0)\n",
    "print(maximum_for_month)"
   ]
  },
  {
   "cell_type": "markdown",
   "id": "9a8029c5",
   "metadata": {},
   "source": [
    "Exercise #2"
   ]
  },
  {
   "cell_type": "code",
   "execution_count": 9,
   "id": "425a7b8b",
   "metadata": {},
   "outputs": [
    {
     "name": "stdout",
     "output_type": "stream",
     "text": [
      "3200.0\n",
      "3333.3333333333335\n"
     ]
    }
   ],
   "source": [
    "# Average of the maximum monthly amount paid to each employee in the past three months\n",
    "print(np.mean(maximum_for_employee))\n",
    "\n",
    "# Average for the maximum amount received by an employee each month\n",
    "print(np.mean(maximum_for_month))"
   ]
  },
  {
   "cell_type": "markdown",
   "id": "f2eb9275",
   "metadata": {},
   "source": [
    "# Pandas\n",
    "- Name \"Pandas\" derived from the Python Data Analysis Library\n",
    "- Contains two data structures: Series (1D) and DataFrame (2D)\n",
    "- DataFrame is the primary one but it's just a collection of Series objects.\n",
    "- Therefore, Series are just as important as DataFrame"
   ]
  },
  {
   "cell_type": "markdown",
   "id": "f1bba833",
   "metadata": {},
   "source": [
    "### pandas Series\n",
    "- A pandas Series is a 1D labeled array\n",
    "- elements in a Series are labeled with integers according to their position, like in a Python list\n",
    "- The labels don't have to be unique but they must be a hashable type (integers, floats, strings or tuples).\n",
    "- Ultimately, a Series is a column in a DataFrame"
   ]
  },
  {
   "cell_type": "markdown",
   "id": "6e820a7d",
   "metadata": {},
   "source": [
    "# Creating a Series"
   ]
  },
  {
   "cell_type": "code",
   "execution_count": 10,
   "id": "0008c12b",
   "metadata": {},
   "outputs": [
    {
     "name": "stdout",
     "output_type": "stream",
     "text": [
      "0    Jeff Russell\n",
      "1    Jane Boorman\n",
      "2      Tom Heints\n",
      "dtype: object\n"
     ]
    }
   ],
   "source": [
    "import pandas as pd\n",
    "data = ['Jeff Russell', 'Jane Boorman', 'Tom Heints']\n",
    "emps_names = pd.Series(data)\n",
    "print(emps_names)"
   ]
  },
  {
   "cell_type": "code",
   "execution_count": 11,
   "id": "e66e5a4d",
   "metadata": {},
   "outputs": [
    {
     "name": "stdout",
     "output_type": "stream",
     "text": [
      "9001    Jeff Russell\n",
      "9002    Jane Boorman\n",
      "9003     Tom Heights\n",
      "dtype: object\n"
     ]
    }
   ],
   "source": [
    "# creating a Series with user-defined indices\n",
    "data = ['Jeff Russell', 'Jane Boorman', 'Tom Heights']\n",
    "emps_names = pd.Series(data, index = [9001, 9002, 9003])\n",
    "print(emps_names)"
   ]
  },
  {
   "cell_type": "markdown",
   "id": "edc19a6e",
   "metadata": {},
   "source": [
    "### Accessing Data in a Series"
   ]
  },
  {
   "cell_type": "code",
   "execution_count": 15,
   "id": "a3d3b44a",
   "metadata": {},
   "outputs": [
    {
     "name": "stdout",
     "output_type": "stream",
     "text": [
      "Jeff Russell\n",
      "---\n",
      "Jeff Russell\n",
      "---\n",
      "Jeff Russell\n",
      "---\n",
      "9001    Jeff Russell\n",
      "9002    Jane Boorman\n",
      "dtype: object\n",
      "---\n",
      "9001    Jeff Russell\n",
      "9002    Jane Boorman\n",
      "dtype: object\n",
      "---\n",
      "9001    Jeff Russell\n",
      "9002    Jane Boorman\n",
      "dtype: object\n"
     ]
    }
   ],
   "source": [
    "print(emps_names[9001])\n",
    "print(\"---\")\n",
    "\n",
    "# Alternatively\n",
    "print(emps_names.loc[9001])\n",
    "print(\"---\")\n",
    "\n",
    "# You can still access with integer-based indexing\n",
    "print(emps_names.iloc[0])\n",
    "print(\"---\")\n",
    "\n",
    "# Accessing multiple elements by their indices with a slice operation\n",
    "print(emps_names.loc[9001:9002])\n",
    "print(\"---\")\n",
    "print(emps_names.iloc[0:2])\n",
    "print(\"---\")\n",
    "print(emps_names[0:2])\n"
   ]
  },
  {
   "cell_type": "markdown",
   "id": "b63ee3cf",
   "metadata": {},
   "source": [
    "### Combining Series into a DataFrame"
   ]
  },
  {
   "cell_type": "code",
   "execution_count": 16,
   "id": "84d09f5a",
   "metadata": {},
   "outputs": [
    {
     "name": "stdout",
     "output_type": "stream",
     "text": [
      "             names        emails\n",
      "9001  Jeff Russell  jeff.russell\n",
      "9002  Jane Boorman  jane.boorman\n",
      "9003   Tom Heights    tom.heints\n"
     ]
    }
   ],
   "source": [
    "data = ['jeff.russell', 'jane.boorman', 'tom.heints']\n",
    "emps_emails = pd.Series(data, index = [9001, 9002, 9003], name = 'emails')\n",
    "emps_names.name = 'names'\n",
    "df = pd.concat([emps_names, emps_emails], axis = 1)\n",
    "print(df)"
   ]
  }
 ],
 "metadata": {
  "kernelspec": {
   "display_name": ".venv",
   "language": "python",
   "name": "python3"
  },
  "language_info": {
   "codemirror_mode": {
    "name": "ipython",
    "version": 3
   },
   "file_extension": ".py",
   "mimetype": "text/x-python",
   "name": "python",
   "nbconvert_exporter": "python",
   "pygments_lexer": "ipython3",
   "version": "3.13.5"
  }
 },
 "nbformat": 4,
 "nbformat_minor": 5
}
