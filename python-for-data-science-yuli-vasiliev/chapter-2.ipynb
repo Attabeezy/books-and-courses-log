{
 "cells": [
  {
   "cell_type": "markdown",
   "id": "9b55fbd7",
   "metadata": {},
   "source": [
    "# Python Data Structures"
   ]
  },
  {
   "cell_type": "markdown",
   "id": "82036626",
   "metadata": {},
   "source": [
    "data structures organize and store data.\n",
    "python has 4  data structures:\n",
    "lists, tuples, dictionaries, and sets."
   ]
  },
  {
   "cell_type": "markdown",
   "id": "116da8b8",
   "metadata": {},
   "source": [
    "## list"
   ]
  },
  {
   "cell_type": "markdown",
   "id": "ec52c26d",
   "metadata": {},
   "source": [
    "list is an ordered collection of objects.\n",
    "they are separated by commas.\n",
    "the entire list is enclosed in square brackets.\n",
    "lists are mutable, you can add, remove, and modify elements."
   ]
  },
  {
   "cell_type": "code",
   "execution_count": 1,
   "id": "fd6f074c",
   "metadata": {},
   "outputs": [],
   "source": [
    "example_1 = [2, 4, 7]\n",
    "example_2 = ['Bob', 'John', 'Will']\n",
    "\n",
    "# list allows different data types to be in one list\n",
    "example_3 = ['Ford', 'America', 'Europe']\n",
    "\n",
    "# creating a list\n",
    "regions = ['Asia', 'America', 'Europe']"
   ]
  },
  {
   "cell_type": "markdown",
   "id": "de704690",
   "metadata": {},
   "source": [
    "list are usually populated by with a loop starting with an empty list"
   ]
  },
  {
   "cell_type": "code",
   "execution_count": 2,
   "id": "7a35de98",
   "metadata": {},
   "outputs": [
    {
     "name": "stdout",
     "output_type": "stream",
     "text": [
      "['Pay bills', 'Tidy up', 'Walk the dog', 'Cook dinner']\n",
      "Pay bills\n"
     ]
    }
   ],
   "source": [
    "# using common objects methods\n",
    "my_list = []\n",
    "\n",
    "# .append() to add items\n",
    "my_list.append('Pay bills')\n",
    "my_list.append('Tidy up')\n",
    "my_list.append('Walk the dog')\n",
    "my_list.append('Cook dinner')\n",
    "\n",
    "# output\n",
    "print(my_list)\n",
    "print(my_list[0]) # for first element since python uses zero indexing"
   ]
  },
  {
   "cell_type": "code",
   "execution_count": 3,
   "id": "b1e40983",
   "metadata": {},
   "outputs": [
    {
     "name": "stdout",
     "output_type": "stream",
     "text": [
      "['Pay bills', 'Tidy up', 'Walk the dog', 'Go to the pharmacy', 'Cook dinner']\n",
      "1\n",
      "['Pay bills', 'Tidy up', 'Walk the dog']\n"
     ]
    }
   ],
   "source": [
    "# inserting an item in between two items\n",
    "i = my_list.index('Cook dinner')\n",
    "my_list.insert(i, 'Go to the pharmacy')\n",
    "print(my_list)\n",
    "\n",
    "# to check how many times an item appears\n",
    "print(my_list.count('Tidy up'))\n",
    "\n",
    "# using slice notation\n",
    "print(my_list[0:3])"
   ]
  },
  {
   "cell_type": "code",
   "execution_count": 4,
   "id": "03d8d509",
   "metadata": {},
   "outputs": [
    {
     "name": "stdout",
     "output_type": "stream",
     "text": [
      "['Pay bills', 'Tidy up', 'Walk the dog']\n",
      "['Go to the pharmacy', 'Cook dinner']\n",
      "['Pay bills', 'Tidy up', 'Walk the dog', 'Go to the pharmacy', 'Cook dinner']\n"
     ]
    }
   ],
   "source": [
    "# both start and end indices are optional\n",
    "print(my_list[:3]) # omitting first\n",
    "print(my_list[3:]) # omitting last\n",
    "print(my_list[:]) # omitting both"
   ]
  },
  {
   "cell_type": "code",
   "execution_count": 5,
   "id": "cca94c4b",
   "metadata": {},
   "outputs": [
    {
     "name": "stdout",
     "output_type": "stream",
     "text": [
      "['Pay bills', 'Tidy up', 'Walk the dog', 'Go to the pharmacy', 'Cook dinner', 'Mow the lawn', 'Water plants']\n"
     ]
    }
   ],
   "source": [
    "# using slice notation for appending and inserting\n",
    "my_list[len(my_list):] = ['Mow the lawn', 'Water plants']\n",
    "# len returns the number of items in the list\n",
    "print(my_list)"
   ]
  },
  {
   "cell_type": "markdown",
   "id": "34c6b27c",
   "metadata": {},
   "source": [
    "a queue is an abstract data type.\n",
    "one end for inserting items - enqueue, one end for removing items - dequeue\n",
    "that is, first-in, first-out (FIFO)"
   ]
  },
  {
   "cell_type": "code",
   "execution_count": 6,
   "id": "5c42cd92",
   "metadata": {},
   "outputs": [
    {
     "name": "stdout",
     "output_type": "stream",
     "text": [
      "Pay bills  - Done!\n"
     ]
    }
   ],
   "source": [
    "# turning a list to a queue using python's deque (double-ended queue) object\n",
    "# using a to-do list example\n",
    "\n",
    "from collections import deque\n",
    "queue = deque(my_list)\n",
    "queue.append('Wash the car')\n",
    "print(queue.popleft(), ' - Done!')\n",
    "my_list_upd = list(queue)"
   ]
  },
  {
   "cell_type": "markdown",
   "id": "75ef43b8",
   "metadata": {},
   "source": [
    "### using a list as a stack\n",
    "a stack is an abstract data structure.\n",
    "stack implements last-in, first-out (LIFO)"
   ]
  },
  {
   "cell_type": "code",
   "execution_count": 7,
   "id": "4ba6d16e",
   "metadata": {},
   "outputs": [
    {
     "name": "stdout",
     "output_type": "stream",
     "text": [
      "Cook dinner  - Done!\n",
      "Go to the pharmacy  - Done!\n",
      "Walk the dog  - Done!\n",
      "Tidy up  - Done!\n",
      "Pay bills  - Done!\n"
     ]
    }
   ],
   "source": [
    "my_list = ['Pay bills', 'Tidy up', 'Walk the dog', 'Go to the pharmacy', 'Cook dinner']\n",
    "stack = []\n",
    "for task in my_list:\n",
    "    stack.append(task)\n",
    "while stack:\n",
    "    print(stack.pop(), ' - Done!')"
   ]
  },
  {
   "cell_type": "markdown",
   "id": "099fd6af",
   "metadata": {},
   "source": [
    "### using lists and stacks for natural language processing"
   ]
  },
  {
   "cell_type": "code",
   "execution_count": 8,
   "id": "b76cec5c",
   "metadata": {},
   "outputs": [
    {
     "name": "stdout",
     "output_type": "stream",
     "text": [
      "List\n",
      "a ubiquitous data structure\n",
      "the Python programming language\n"
     ]
    }
   ],
   "source": [
    "import spacy\n",
    "txt = 'List is a ubiquitous data structure in the Python programming language.'\n",
    "\n",
    "nlp = spacy.load('en_core_web_sm')\n",
    "doc = nlp(txt)\n",
    "stk = []\n",
    "for w in doc:\n",
    "    if w.pos_ == 'NOUN' or w.pos_ == 'PROPN':\n",
    "        stk.append(w.text)\n",
    "    elif (w.head.pos_ == 'NOUN' or w.pos_ == 'PROPN') and (w in w.head.lefts):\n",
    "        stk.append(w.text)\n",
    "    elif stk:\n",
    "        chunk = ''\n",
    "        while stk:\n",
    "            chunk = stk.pop() + ' ' + chunk\n",
    "        print(chunk.strip())"
   ]
  },
  {
   "cell_type": "markdown",
   "id": "788208da",
   "metadata": {},
   "source": [
    "### importing with list comprehensions\n",
    "let's find the head of each word in the sentence"
   ]
  },
  {
   "cell_type": "code",
   "execution_count": 9,
   "id": "9f1baae9",
   "metadata": {},
   "outputs": [
    {
     "name": "stdout",
     "output_type": "stream",
     "text": [
      "List is\n",
      "is is\n",
      "a structure\n",
      "ubiquitous structure\n",
      "data structure\n",
      "structure is\n",
      "in structure\n",
      "the language\n",
      "Python language\n",
      "programming language\n",
      "language in\n",
      ". is\n"
     ]
    }
   ],
   "source": [
    "import spacy\n",
    "\n",
    "txt = 'List is a ubiquitous data structure in the Python programming language.'\n",
    "\n",
    "nlp = spacy.load('en_core_web_sm')\n",
    "doc = nlp(txt)\n",
    "\n",
    "for t in doc:\n",
    "    print(t.text, t.head.text)"
   ]
  },
  {
   "cell_type": "markdown",
   "id": "a9cb17c3",
   "metadata": {},
   "source": [
    "### creating using list comprehension"
   ]
  },
  {
   "cell_type": "code",
   "execution_count": 10,
   "id": "7b72ac80",
   "metadata": {},
   "outputs": [
    {
     "name": "stdout",
     "output_type": "stream",
     "text": [
      "['List', 0, 0, 'the', 'most', 'useful', 0, 0, 'the', 'Python', 'programming', 0, 0]\n"
     ]
    }
   ],
   "source": [
    "import spacy\n",
    "\n",
    "txt = 'List is arguably the most useful type in the Python programming language.'\n",
    "\n",
    "nlp = spacy.load('en_core_web_sm')\n",
    "doc = nlp(txt)\n",
    "\n",
    "head_lefts = [t.text if t in t.head.lefts else 0 for t in doc]\n",
    "print(head_lefts)"
   ]
  },
  {
   "cell_type": "markdown",
   "id": "4dda8a32",
   "metadata": {},
   "source": [
    "Moving through a list word by word through the rest of the text"
   ]
  },
  {
   "cell_type": "code",
   "execution_count": 11,
   "id": "411864a3",
   "metadata": {},
   "outputs": [
    {
     "name": "stdout",
     "output_type": "stream",
     "text": [
      "[0, 0]\n",
      "[0, 0]\n",
      "[0, 0]\n",
      "[0, 0]\n",
      "[0, 0]\n",
      "[0, 0]\n",
      "[0, 0]\n",
      "[0, 0]\n",
      "[0, 0]\n",
      "[0, 0]\n",
      "[0, 0]\n",
      "[0, 0]\n",
      "[0, 0]\n"
     ]
    }
   ],
   "source": [
    "for word in doc:\n",
    "    head_lefts = [t.text if t in t.head.lefts else 0 for t in doc [w.i:]]\n",
    "    print(head_lefts)"
   ]
  },
  {
   "cell_type": "markdown",
   "id": "da3c292c",
   "metadata": {},
   "source": [
    "Analyzing each fragment, looking for the next zero"
   ]
  },
  {
   "cell_type": "code",
   "execution_count": 12,
   "id": "d32f25d1",
   "metadata": {},
   "outputs": [
    {
     "name": "stdout",
     "output_type": "stream",
     "text": [
      "['List', 0]\n",
      "List\n",
      "['the', 'most', 'useful', 0]\n",
      "type\n",
      "['most', 'useful', 0]\n",
      "type\n",
      "['useful', 0]\n",
      "type\n",
      "['the', 'Python', 'programming', 0]\n",
      "language\n",
      "['Python', 'programming', 0]\n",
      "language\n",
      "['programming', 0]\n",
      "language\n"
     ]
    }
   ],
   "source": [
    "for w in doc:\n",
    "    head_lefts = [t.text if t in t.head.lefts else 0 for t in doc[w.i:]]\n",
    "    i0 = head_lefts.index(0)\n",
    "    if i0 > 0:\n",
    "        noun = [1 if t.pos_== 'NOUN' or t.pos_== 'PROPN' else 0 for t in reversed(doc[w.i:w.i+i0 +1])]\n",
    "        try:\n",
    "            i1 = noun.index(1) + 1\n",
    "        except ValueError:\n",
    "            pass\n",
    "        print(head_lefts[:i0 +1])\n",
    "        print(doc[w.i+i0 +1-i1])"
   ]
  },
  {
   "cell_type": "markdown",
   "id": "fc73cb5d",
   "metadata": {},
   "source": [
    "PUTTING IT ALL TOGETHER!"
   ]
  },
  {
   "cell_type": "code",
   "execution_count": 13,
   "id": "0128b0e1",
   "metadata": {},
   "outputs": [],
   "source": [
    "import spacy\n",
    "\n",
    "txt = 'List is arguably the most useful type in the Python programming language.'\n",
    "\n",
    "nlp = spacy.load('en_core_web_sm')\n",
    "doc = nlp(txt)\n",
    "stk = []\n",
    "\n",
    "for w in doc:\n",
    "    head_lefts = [t.text if t in t.head.lefts else 0 for t in doc[w.i:]]\n",
    "    i0 = 0\n",
    "    try:\n",
    "        i0 = head_lefts.index(0)\n",
    "    except ValueError:\n",
    "        pass\n",
    "    i1 = 0\n",
    "    if i0 > 0:\n",
    "        noun = [1 if t.pos_== 'NOUN' or t.pos_== 'PROPN' else 0 for t in reversed(doc[w.i:w.i+i0 +1])]\n",
    "        try:\n",
    "            i1 = noun.index(1) + 1\n",
    "        except ValueError:\n",
    "            pass\n",
    "        if w.pos_ == 'NOUN' or w.pos_ == 'PROPN':\n",
    "            stk.append(w.text)\n",
    "        elif (i1 > 0):\n",
    "            stk.append(w.text)\n",
    "        elif stk:\n",
    "            chunk = ''\n",
    "            while stk:\n",
    "                chunk = stk.pop() + ' ' + chunk\n",
    "            print(chunk.strip())"
   ]
  },
  {
   "cell_type": "markdown",
   "id": "7e601b8d",
   "metadata": {},
   "source": [
    "## tuples"
   ]
  },
  {
   "cell_type": "code",
   "execution_count": 14,
   "id": "7637c96b",
   "metadata": {},
   "outputs": [
    {
     "data": {
      "text/plain": [
       "('Ford', 'Mustang', 1964)"
      ]
     },
     "execution_count": 14,
     "metadata": {},
     "output_type": "execute_result"
    }
   ],
   "source": [
    "\"\"\"\n",
    "a tuple is an ordered collection of objects.\n",
    "tuples are immutable. once created it can not be changed.\n",
    "typically used to store collections of heterogeneous data.\n",
    "especially useful for holding properties of an object.\n",
    "\"\"\"\n",
    "\n",
    "# example of a simple tuple\n",
    "('Ford', 'Mustang', 1964)"
   ]
  },
  {
   "cell_type": "markdown",
   "id": "dbd0681f",
   "metadata": {},
   "source": [
    "example of a list of tuples"
   ]
  },
  {
   "cell_type": "code",
   "execution_count": 15,
   "id": "c60406de",
   "metadata": {},
   "outputs": [
    {
     "name": "stdout",
     "output_type": "stream",
     "text": [
      "[('8:00', 'Pay bills'), ('8:30', 'Tidy up'), ('9:30', 'Walk the dog'), ('10:00', 'Go to the pharmacy'), ('10:30', 'Cook dinner')]\n",
      "8:30\n"
     ]
    }
   ],
   "source": [
    "# a to-do list with a tuple of time-task pairs\n",
    "[('8:00', 'Pay bills'), ('8:30', 'Tidy up'), ('9:30', 'Walk the dog'), ('10:00', 'Go to the pharmacy'), ('10:30', 'Cook dinner')]\n",
    "task_list = ['Pay bills', 'Tidy up', 'Walk the dog', 'Go to the pharmacy', 'Cook dinner']\n",
    "tm_list = ['8:00', '8:30', '9:30', '10:00', '10:30']\n",
    "sched_list = [(tm, task) for tm, task in zip(tm_list, task_list)]\n",
    "print(sched_list)\n",
    "print(sched_list[1][0])"
   ]
  },
  {
   "cell_type": "markdown",
   "id": "539c5943",
   "metadata": {},
   "source": [
    "Immutability"
   ]
  },
  {
   "cell_type": "code",
   "execution_count": 16,
   "id": "db04aff3",
   "metadata": {},
   "outputs": [
    {
     "ename": "TypeError",
     "evalue": "'tuple' object does not support item assignment",
     "output_type": "error",
     "traceback": [
      "\u001b[31m---------------------------------------------------------------------------\u001b[39m",
      "\u001b[31mTypeError\u001b[39m                                 Traceback (most recent call last)",
      "\u001b[36mCell\u001b[39m\u001b[36m \u001b[39m\u001b[32mIn[16]\u001b[39m\u001b[32m, line 6\u001b[39m\n\u001b[32m      1\u001b[39m \u001b[33;03m\"\"\"\u001b[39;00m\n\u001b[32m      2\u001b[39m \u001b[33;03mthey're not mutable.\u001b[39;00m\n\u001b[32m      3\u001b[39m \u001b[33;03myou can't modify them\u001b[39;00m\n\u001b[32m      4\u001b[39m \u001b[33;03m\"\"\"\u001b[39;00m\n\u001b[32m----> \u001b[39m\u001b[32m6\u001b[39m \u001b[43msched_list\u001b[49m\u001b[43m[\u001b[49m\u001b[32;43m1\u001b[39;49m\u001b[43m]\u001b[49m\u001b[43m[\u001b[49m\u001b[32;43m0\u001b[39;49m\u001b[43m]\u001b[49m = \u001b[33m'\u001b[39m\u001b[33m9:00\u001b[39m\u001b[33m'\u001b[39m\n",
      "\u001b[31mTypeError\u001b[39m: 'tuple' object does not support item assignment"
     ]
    }
   ],
   "source": [
    "\"\"\"\n",
    "they're not mutable.\n",
    "you can't modify them\n",
    "\"\"\"\n",
    "\n",
    "sched_list[1][0] = '9:00'"
   ]
  },
  {
   "cell_type": "markdown",
   "id": "aefb47fd",
   "metadata": {},
   "source": [
    "### Dictionaries\n",
    "dictionaries are mutable, unordered collection of key-value pairs"
   ]
  },
  {
   "cell_type": "code",
   "execution_count": 17,
   "id": "be9cfecb",
   "metadata": {},
   "outputs": [
    {
     "data": {
      "text/plain": [
       "{'Make': 'Ford', 'Model': 'Mustang', 'Year': 1964}"
      ]
     },
     "execution_count": 17,
     "metadata": {},
     "output_type": "execute_result"
    }
   ],
   "source": [
    "\"\"\"\n",
    "each key is used to identify a value\n",
    "for instance:\n",
    "\"\"\"\n",
    "{'Make': 'Ford', 'Model': 'Mustang', 'Year': 1964}\n",
    "\n",
    "# dictionaries like tuples are good for storing heterogeneous data about real-world objects"
   ]
  },
  {
   "cell_type": "markdown",
   "id": "70ae8fe2",
   "metadata": {},
   "source": [
    "A list of dictionaries"
   ]
  },
  {
   "cell_type": "code",
   "execution_count": 18,
   "id": "5b91d873",
   "metadata": {},
   "outputs": [],
   "source": [
    "## to-do list implementation as a list of dictionaries\n",
    "dict_list = [\n",
    "    {'time': '8:00', 'name': 'Pay bills'},\n",
    "    {'time': '8:30', 'name': 'Tidy up'},\n",
    "    {'time': '9:30', 'name': 'Walk the dog'},\n",
    "    {'time': '10:00', 'name': 'Go to the pharmacy'},\n",
    "    {'time': '10:30', 'name': 'Cook dinner'},\n",
    "]\n",
    "\n",
    "# unlike tuples, dictionaries are mutable.\n",
    "dict_list[1]['time'] = '9:00' # how to accesss data"
   ]
  },
  {
   "cell_type": "markdown",
   "id": "07eb6046",
   "metadata": {},
   "source": [
    "Adding to a Dictionary with setdefault()"
   ]
  },
  {
   "cell_type": "code",
   "execution_count": 19,
   "id": "9a3b386c",
   "metadata": {},
   "outputs": [
    {
     "name": "stdout",
     "output_type": "stream",
     "text": [
      "Jetta\n",
      "2022\n",
      "{'brand': 'Volkswagen', 'style': 'Sedan', 'model': 'Jetta', 'year': 2022}\n"
     ]
    }
   ],
   "source": [
    "\"\"\"\n",
    "setdefault() method makes it easy to add key-values and\n",
    "avoid making double assignment by printing the current value for a value\n",
    "that already exists\n",
    "\"\"\"\n",
    "\n",
    "#example\n",
    "car = {\n",
    "    'brand': 'Volkswagen',\n",
    "    'style': 'Sedan',\n",
    "    'model': 'Jetta'\n",
    "}\n",
    "\n",
    "# trying a new model on the dictionary\n",
    "print(car.setdefault('model', 'Passat')) # will print current value 'Jetta'\n",
    "\n",
    "print(car.setdefault('year', 2022)) # will add year-2022 pair to the dictionary and print it\n",
    "print(car) #confirming the new addition"
   ]
  },
  {
   "cell_type": "markdown",
   "id": "08171664",
   "metadata": {},
   "source": [
    "Practical NLP example (part A): counting the number of occurrences of each word in a text phrase"
   ]
  },
  {
   "cell_type": "code",
   "execution_count": 20,
   "id": "d22fea0a",
   "metadata": {},
   "outputs": [
    {
     "name": "stdout",
     "output_type": "stream",
     "text": [
      "['Python', 'is', 'one', 'of', 'the', 'most', 'promising', 'programming', 'languages', 'today', 'Due', 'to', 'the', 'simplicity', 'of', 'Python', 'syntax', 'many', 'researchers', 'and', 'scientists', 'prefer', 'Python', 'over', 'many', 'other', 'languages']\n"
     ]
    }
   ],
   "source": [
    "txt = '''Python is one of the most promising programming \n",
    "languages today. Due to the simplicity of Python syntax, \n",
    "many researchers and scientists prefer Python over many other \n",
    "languages.'''\n",
    "\n",
    "txt = txt.replace('.', '').replace(',','') # removing punctuations\n",
    "lst = txt.split()\n",
    "print(lst)"
   ]
  },
  {
   "cell_type": "markdown",
   "id": "431a0e5c",
   "metadata": {},
   "source": [
    "Practical NLP example (part B): performing the counting"
   ]
  },
  {
   "cell_type": "code",
   "execution_count": 21,
   "id": "bae01440",
   "metadata": {},
   "outputs": [
    {
     "name": "stdout",
     "output_type": "stream",
     "text": [
      "{'Python': 3, 'is': 1, 'one': 1, 'of': 2, 'the': 2, 'most': 1, 'promising': 1, 'programming': 1, 'languages': 2, 'today': 1, 'Due': 1, 'to': 1, 'simplicity': 1, 'syntax': 1, 'many': 2, 'researchers': 1, 'and': 1, 'scientists': 1, 'prefer': 1, 'over': 1, 'other': 1}\n",
      "{'Python': 3, 'of': 2, 'the': 2, 'languages': 2, 'many': 2, 'is': 1, 'one': 1, 'most': 1, 'promising': 1, 'programming': 1, 'today': 1, 'Due': 1, 'to': 1, 'simplicity': 1, 'syntax': 1, 'researchers': 1, 'and': 1, 'scientists': 1, 'prefer': 1, 'over': 1, 'other': 1}\n"
     ]
    }
   ],
   "source": [
    "dct = {}\n",
    "for w in lst:\n",
    "    c = dct.setdefault(w, 0)\n",
    "    dct[w] += 1\n",
    "\n",
    "print(dct)\n",
    "\n",
    "# sorting by number of occurrences\n",
    "dct_sorted = dict(sorted(dct.items(), key=lambda x: x[1], reverse = True))\n",
    "print(dct_sorted)"
   ]
  },
  {
   "cell_type": "markdown",
   "id": "8fdecb00",
   "metadata": {},
   "source": [
    "### Loading JSON into a Dictionary"
   ]
  },
  {
   "cell_type": "code",
   "execution_count": 22,
   "id": "e7e001c6",
   "metadata": {},
   "outputs": [],
   "source": [
    "d = { \"PONumber\" : 2608,\n",
    "     \"ShippingInstructions\" : {\"name\" : \"John Silver\",\n",
    "                               \"Address\": { \"street\" : \"426 Light Street\",\n",
    "                                           \"city\" : \"South San Francisco\",\n",
    "                                           \"state\" : \"CA\",\n",
    "                                           \"zipCode\" : 99237,\n",
    "                                           \"country\" : \"United States of America\" },\n",
    "                               \"Phone\" : [ { \"type\" : \"Office\", \"number\" : \"809-123-9309\" },\n",
    "                                          { \"type\" : \"Mobile\", \"number\" : \"417-123-4567\" }]\n",
    "                               }\n",
    "     }"
   ]
  },
  {
   "cell_type": "code",
   "execution_count": 23,
   "id": "45fe24e7",
   "metadata": {},
   "outputs": [],
   "source": [
    "# saving the dictionary directly to a JSON file\n",
    "import json\n",
    "with open(\"po.json\", \"w\") as outfile:\n",
    "    json.dump(d, outfile)\n",
    "\n",
    "# using json.load() method to load contents of a JSON file directly into python dictionary\n",
    "with open(\"po.json\",) as fp:\n",
    "    d = json.load(fp)"
   ]
  },
  {
   "cell_type": "markdown",
   "id": "d14c7456",
   "metadata": {},
   "source": [
    "# Sets\n",
    "a Python set is an unordered collection of unique items.\n",
    "Duplicate items not allowed.\n",
    "Defined by curly brackets containing items separated by commas."
   ]
  },
  {
   "cell_type": "code",
   "execution_count": 24,
   "id": "0c92db6d",
   "metadata": {},
   "outputs": [
    {
     "data": {
      "text/plain": [
       "{'London', 'New York', 'Paris'}"
      ]
     },
     "execution_count": 24,
     "metadata": {},
     "output_type": "execute_result"
    }
   ],
   "source": [
    "# example of a set\n",
    "{'London', 'New York', 'Paris'}"
   ]
  },
  {
   "cell_type": "code",
   "execution_count": 25,
   "id": "22d015b5",
   "metadata": {},
   "outputs": [
    {
     "name": "stdout",
     "output_type": "stream",
     "text": [
      "['Maya Smith', 'John Silver', 'Tim Jemison']\n"
     ]
    }
   ],
   "source": [
    "# how to remove duplicates from a list\n",
    "lst = ['John Silver', 'Tim Jemison', 'John Silver', 'Maya Smith']\n",
    "lst = list(set(lst))\n",
    "print(lst)"
   ]
  },
  {
   "cell_type": "code",
   "execution_count": 26,
   "id": "03edc45d",
   "metadata": {},
   "outputs": [
    {
     "name": "stdout",
     "output_type": "stream",
     "text": [
      "['John Silver', 'Tim Jemison', 'Maya Smith']\n"
     ]
    }
   ],
   "source": [
    "# how to remove duplicates from a list and still maintain order using sorted()\n",
    "lst = ['John Silver', 'Tim Jemison', 'John Silver', 'Maya Smith']\n",
    "lst = list(sorted(set(lst), key=lst.index))\n",
    "print(lst)"
   ]
  },
  {
   "cell_type": "markdown",
   "id": "f01f834c",
   "metadata": {},
   "source": [
    "### Performing Common Set Operations\n",
    "set objects coming with methods for performing common math operations on sequences.\n",
    "This includes unions and intersections."
   ]
  },
  {
   "cell_type": "code",
   "execution_count": 27,
   "id": "9e5da632",
   "metadata": {},
   "outputs": [
    {
     "name": "stdout",
     "output_type": "stream",
     "text": [
      "{'food', 'tableware'}\n",
      "The photos contain similar objects.\n"
     ]
    }
   ],
   "source": [
    "\"\"\"\n",
    "classifying a huge number of photons into groups based on what's in the photos\n",
    "Clarifai API can generate descriptive tags for a given photo.\n",
    "Tags can be compared using the intersection() method.\n",
    "The more tags that there are in both sets, the more similar two images are with respect to their theme.\n",
    "Consider the following simplified example:\n",
    "\"\"\"\n",
    "\n",
    "photo1_tags = {'coffee', 'breakfast', 'drink', 'table', 'tableware', 'cup', 'food'}\n",
    "photo2_tags = {'food', 'dish', 'meat', 'meal', 'tableware', 'dinner', 'vegetable'}\n",
    "intersection = photo1_tags.intersection(photo2_tags)\n",
    "print(intersection)\n",
    "if len(intersection) >= 2:\n",
    "    print(\"The photos contain similar objects.\")"
   ]
  },
  {
   "cell_type": "markdown",
   "id": "67d33103",
   "metadata": {},
   "source": [
    "## Exercise #1"
   ]
  },
  {
   "cell_type": "code",
   "execution_count": null,
   "id": "51ece935",
   "metadata": {},
   "outputs": [],
   "source": [
    "photo_list = [\n",
    "    {\n",
    "        \"name\": \"photo1.jpg\",\n",
    "        \"tags\": {'coffee', 'breakfast', 'drink', 'table', 'tableware', 'cup', 'food'}\n",
    "    },\n",
    "    {\n",
    "        \"name\": \"photo2.jpg\",\n",
    "        \"tags\": {'food', 'dish', 'meat', 'meal', 'tableware', 'dinner',\n",
    "        'vegetable'}\n",
    "    },\n",
    "    {\n",
    "        \"name\": \"photo3.jpg\",\n",
    "        \"tags\": {'city', 'skyline', 'cityscape', 'skyscraper',\n",
    "        'architecture', 'building',\n",
    "        'travel'}\n",
    "    },\n",
    "    {\n",
    "        \"name\": \"photo4.jpg\",\n",
    "        \"tags\": {'drink', 'juice', 'glass', 'meal', 'fruit', 'food', 'grapes'}\n",
    "    }\n",
    "    ]\n",
    "\n",
    "photo_groups = {}\n",
    "\n",
    "for i in range(1, len(photo_list)):\n",
    "    for j in range(i + 1, len(photo_list) + 1):\n",
    "        print(f\"Intersecting photo {i} with photo {j}\")\n",
    "        # Implement intersection here, saving results to photo_groups\n",
    "        "
   ]
  }
 ],
 "metadata": {
  "kernelspec": {
   "display_name": ".venv",
   "language": "python",
   "name": "python3"
  },
  "language_info": {
   "codemirror_mode": {
    "name": "ipython",
    "version": 3
   },
   "file_extension": ".py",
   "mimetype": "text/x-python",
   "name": "python",
   "nbconvert_exporter": "python",
   "pygments_lexer": "ipython3",
   "version": "3.13.0rc2"
  }
 },
 "nbformat": 4,
 "nbformat_minor": 5
}
