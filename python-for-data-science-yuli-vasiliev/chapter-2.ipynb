{
 "cells": [
  {
   "cell_type": "markdown",
   "id": "9b55fbd7",
   "metadata": {},
   "source": [
    "# Python Data Structures"
   ]
  },
  {
   "cell_type": "markdown",
   "id": "82036626",
   "metadata": {},
   "source": [
    "data structures organize and store data.\n",
    "python has 4  data structures:\n",
    "lists, tuples, dictionaries, and sets."
   ]
  },
  {
   "cell_type": "markdown",
   "id": "116da8b8",
   "metadata": {},
   "source": [
    "## list"
   ]
  },
  {
   "cell_type": "markdown",
   "id": "ec52c26d",
   "metadata": {},
   "source": [
    "list is an ordered collection of objects.\n",
    "they are separated by commas.\n",
    "the entire list is enclosed in square brackets.\n",
    "lists are mutable, you can add, remove, and modify elements."
   ]
  },
  {
   "cell_type": "code",
   "execution_count": 1,
   "id": "fd6f074c",
   "metadata": {},
   "outputs": [],
   "source": [
    "example_1 = [2, 4, 7]\n",
    "example_2 = ['Bob', 'John', 'Will']\n",
    "\n",
    "# list allows different data types to be in one list\n",
    "example_3 = ['Ford', 'America', 'Europe']\n",
    "\n",
    "# creating a list\n",
    "regions = ['Asia', 'America', 'Europe']"
   ]
  },
  {
   "cell_type": "markdown",
   "id": "de704690",
   "metadata": {},
   "source": [
    "list are usually populated by with a loop starting with an empty list"
   ]
  },
  {
   "cell_type": "code",
   "execution_count": 2,
   "id": "7a35de98",
   "metadata": {},
   "outputs": [
    {
     "name": "stdout",
     "output_type": "stream",
     "text": [
      "['Pay bills', 'Tidy up', 'Walk the dog', 'Cook dinner']\n",
      "Pay bills\n"
     ]
    }
   ],
   "source": [
    "# using common objects methods\n",
    "my_list = []\n",
    "\n",
    "# .append() to add items\n",
    "my_list.append('Pay bills')\n",
    "my_list.append('Tidy up')\n",
    "my_list.append('Walk the dog')\n",
    "my_list.append('Cook dinner')\n",
    "\n",
    "# output\n",
    "print(my_list)\n",
    "print(my_list[0]) # for first element since python uses zero indexing"
   ]
  },
  {
   "cell_type": "code",
   "execution_count": 3,
   "id": "b1e40983",
   "metadata": {},
   "outputs": [
    {
     "name": "stdout",
     "output_type": "stream",
     "text": [
      "['Pay bills', 'Tidy up', 'Walk the dog', 'Go to the pharmacy', 'Cook dinner']\n",
      "1\n",
      "['Pay bills', 'Tidy up', 'Walk the dog']\n"
     ]
    }
   ],
   "source": [
    "# inserting an item in between two items\n",
    "i = my_list.index('Cook dinner')\n",
    "my_list.insert(i, 'Go to the pharmacy')\n",
    "print(my_list)\n",
    "\n",
    "# to check how many times an item appears\n",
    "print(my_list.count('Tidy up'))\n",
    "\n",
    "# using slice notation\n",
    "print(my_list[0:3])"
   ]
  },
  {
   "cell_type": "code",
   "execution_count": 4,
   "id": "03d8d509",
   "metadata": {},
   "outputs": [
    {
     "name": "stdout",
     "output_type": "stream",
     "text": [
      "['Pay bills', 'Tidy up', 'Walk the dog']\n",
      "['Go to the pharmacy', 'Cook dinner']\n",
      "['Pay bills', 'Tidy up', 'Walk the dog', 'Go to the pharmacy', 'Cook dinner']\n"
     ]
    }
   ],
   "source": [
    "# both start and end indices are optional\n",
    "print(my_list[:3]) # omitting first\n",
    "print(my_list[3:]) # omitting last\n",
    "print(my_list[:]) # omitting both"
   ]
  },
  {
   "cell_type": "code",
   "execution_count": 5,
   "id": "cca94c4b",
   "metadata": {},
   "outputs": [
    {
     "name": "stdout",
     "output_type": "stream",
     "text": [
      "['Pay bills', 'Tidy up', 'Walk the dog', 'Go to the pharmacy', 'Cook dinner', 'Mow the lawn', 'Water plants']\n"
     ]
    }
   ],
   "source": [
    "# using slice notation for appending and inserting\n",
    "my_list[len(my_list):] = ['Mow the lawn', 'Water plants']\n",
    "# len returns the number of items in the list\n",
    "print(my_list)"
   ]
  },
  {
   "cell_type": "markdown",
   "id": "34c6b27c",
   "metadata": {},
   "source": [
    "a queue is an abstract data type.\n",
    "one end for inserting items - enqueue, one end for removing items - dequeue\n",
    "that is, first-in, first-out (FIFO)"
   ]
  },
  {
   "cell_type": "code",
   "execution_count": 6,
   "id": "5c42cd92",
   "metadata": {},
   "outputs": [
    {
     "name": "stdout",
     "output_type": "stream",
     "text": [
      "Pay bills  - Done!\n"
     ]
    }
   ],
   "source": [
    "# turning a list to a queue using python's deque (double-ended queue) object\n",
    "# using a to-do list example\n",
    "\n",
    "from collections import deque\n",
    "queue = deque(my_list)\n",
    "queue.append('Wash the car')\n",
    "print(queue.popleft(), ' - Done!')\n",
    "my_list_upd = list(queue)"
   ]
  },
  {
   "cell_type": "markdown",
   "id": "75ef43b8",
   "metadata": {},
   "source": [
    "### using a list as a stack\n",
    "a stack is an abstract data structure.\n",
    "stack implements last-in, first-out (LIFO)"
   ]
  },
  {
   "cell_type": "code",
   "execution_count": 7,
   "id": "4ba6d16e",
   "metadata": {},
   "outputs": [
    {
     "name": "stdout",
     "output_type": "stream",
     "text": [
      "Cook dinner  - Done!\n",
      "Go to the pharmacy  - Done!\n",
      "Walk the dog  - Done!\n",
      "Tidy up  - Done!\n",
      "Pay bills  - Done!\n"
     ]
    }
   ],
   "source": [
    "my_list = ['Pay bills', 'Tidy up', 'Walk the dog', 'Go to the pharmacy', 'Cook dinner']\n",
    "stack = []\n",
    "for task in my_list:\n",
    "    stack.append(task)\n",
    "while stack:\n",
    "    print(stack.pop(), ' - Done!')"
   ]
  },
  {
   "cell_type": "markdown",
   "id": "099fd6af",
   "metadata": {},
   "source": [
    "### using lists and stacks for natural language processing"
   ]
  },
  {
   "cell_type": "code",
   "execution_count": 8,
   "id": "b76cec5c",
   "metadata": {},
   "outputs": [
    {
     "name": "stdout",
     "output_type": "stream",
     "text": [
      "List\n",
      "a ubiquitous data structure\n",
      "the Python programming language\n"
     ]
    }
   ],
   "source": [
    "import spacy\n",
    "txt = 'List is a ubiquitous data structure in the Python programming language.'\n",
    "\n",
    "nlp = spacy.load('en_core_web_sm')\n",
    "doc = nlp(txt)\n",
    "stk = []\n",
    "for w in doc:\n",
    "    if w.pos_ == 'NOUN' or w.pos_ == 'PROPN':\n",
    "        stk.append(w.text)\n",
    "    elif (w.head.pos_ == 'NOUN' or w.pos_ == 'PROPN') and (w in w.head.lefts):\n",
    "        stk.append(w.text)\n",
    "    elif stk:\n",
    "        chunk = ''\n",
    "        while stk:\n",
    "            chunk = stk.pop() + ' ' + chunk\n",
    "        print(chunk.strip())"
   ]
  },
  {
   "cell_type": "markdown",
   "id": "788208da",
   "metadata": {},
   "source": [
    "### importing with list comprehensions\n",
    "let's find the head of each word in the sentence"
   ]
  },
  {
   "cell_type": "code",
   "execution_count": 9,
   "id": "9f1baae9",
   "metadata": {},
   "outputs": [
    {
     "name": "stdout",
     "output_type": "stream",
     "text": [
      "List is\n",
      "is is\n",
      "a structure\n",
      "ubiquitous structure\n",
      "data structure\n",
      "structure is\n",
      "in structure\n",
      "the language\n",
      "Python language\n",
      "programming language\n",
      "language in\n",
      ". is\n"
     ]
    }
   ],
   "source": [
    "import spacy\n",
    "\n",
    "txt = 'List is a ubiquitous data structure in the Python programming language.'\n",
    "\n",
    "nlp = spacy.load('en_core_web_sm')\n",
    "doc = nlp(txt)\n",
    "\n",
    "for t in doc:\n",
    "    print(t.text, t.head.text)"
   ]
  },
  {
   "cell_type": "markdown",
   "id": "a9cb17c3",
   "metadata": {},
   "source": [
    "### creating using list comprehension"
   ]
  },
  {
   "cell_type": "code",
   "execution_count": 10,
   "id": "7b72ac80",
   "metadata": {},
   "outputs": [
    {
     "name": "stdout",
     "output_type": "stream",
     "text": [
      "['List', 0, 0, 'the', 'most', 'useful', 0, 0, 'the', 'Python', 'programming', 0, 0]\n"
     ]
    }
   ],
   "source": [
    "import spacy\n",
    "\n",
    "txt = 'List is arguably the most useful type in the Python programming language.'\n",
    "\n",
    "nlp = spacy.load('en_core_web_sm')\n",
    "doc = nlp(txt)\n",
    "\n",
    "head_lefts = [t.text if t in t.head.lefts else 0 for t in doc]\n",
    "print(head_lefts)"
   ]
  },
  {
   "cell_type": "markdown",
   "id": "4dda8a32",
   "metadata": {},
   "source": [
    "Moving through a list word by word through the rest of the text"
   ]
  },
  {
   "cell_type": "code",
   "execution_count": 12,
   "id": "411864a3",
   "metadata": {},
   "outputs": [
    {
     "name": "stdout",
     "output_type": "stream",
     "text": [
      "[0, 0]\n",
      "[0, 0]\n",
      "[0, 0]\n",
      "[0, 0]\n",
      "[0, 0]\n",
      "[0, 0]\n",
      "[0, 0]\n",
      "[0, 0]\n",
      "[0, 0]\n",
      "[0, 0]\n",
      "[0, 0]\n",
      "[0, 0]\n",
      "[0, 0]\n"
     ]
    }
   ],
   "source": [
    "for word in doc:\n",
    "    head_lefts = [t.text if t in t.head.lefts else 0 for t in doc [w.i:]]\n",
    "    print(head_lefts)"
   ]
  },
  {
   "cell_type": "markdown",
   "id": "da3c292c",
   "metadata": {},
   "source": [
    "Analyzing each fragment, looking for the next zero"
   ]
  },
  {
   "cell_type": "code",
   "execution_count": 13,
   "id": "d32f25d1",
   "metadata": {},
   "outputs": [
    {
     "name": "stdout",
     "output_type": "stream",
     "text": [
      "['List', 0]\n",
      "List\n",
      "['the', 'most', 'useful', 0]\n",
      "type\n",
      "['most', 'useful', 0]\n",
      "type\n",
      "['useful', 0]\n",
      "type\n",
      "['the', 'Python', 'programming', 0]\n",
      "language\n",
      "['Python', 'programming', 0]\n",
      "language\n",
      "['programming', 0]\n",
      "language\n"
     ]
    }
   ],
   "source": [
    "for w in doc:\n",
    "    head_lefts = [t.text if t in t.head.lefts else 0 for t in doc[w.i:]]\n",
    "    i0 = head_lefts.index(0)\n",
    "    if i0 > 0:\n",
    "        noun = [1 if t.pos_== 'NOUN' or t.pos_== 'PROPN' else 0 for t in reversed(doc[w.i:w.i+i0 +1])]\n",
    "        try:\n",
    "            i1 = noun.index(1) + 1\n",
    "        except ValueError:\n",
    "            pass\n",
    "        print(head_lefts[:i0 +1])\n",
    "        print(doc[w.i+i0 +1-i1])"
   ]
  },
  {
   "cell_type": "markdown",
   "id": "fc73cb5d",
   "metadata": {},
   "source": [
    "PUTTING IT ALL TOGETHER!"
   ]
  },
  {
   "cell_type": "code",
   "execution_count": 14,
   "id": "0128b0e1",
   "metadata": {},
   "outputs": [],
   "source": [
    "import spacy\n",
    "\n",
    "txt = 'List is arguably the most useful type in the Python programming language.'\n",
    "\n",
    "nlp = spacy.load('en_core_web_sm')\n",
    "doc = nlp(txt)\n",
    "stk = []\n",
    "\n",
    "for w in doc:\n",
    "    head_lefts = [t.text if t in t.head.lefts else 0 for t in doc[w.i:]]\n",
    "    i0 = 0\n",
    "    try:\n",
    "        i0 = head_lefts.index(0)\n",
    "    except ValueError:\n",
    "        pass\n",
    "    i1 = 0\n",
    "    if i0 > 0:\n",
    "        noun = [1 if t.pos_== 'NOUN' or t.pos_== 'PROPN' else 0 for t in reversed(doc[w.i:w.i+i0 +1])]\n",
    "        try:\n",
    "            i1 = noun.index(1) + 1\n",
    "        except ValueError:\n",
    "            pass\n",
    "        if w.pos_ == 'NOUN' or w.pos_ == 'PROPN':\n",
    "            stk.append(w.text)\n",
    "        elif (i1 > 0):\n",
    "            stk.append(w.text)\n",
    "        elif stk:\n",
    "            chunk = ''\n",
    "            while stk:\n",
    "                chunk = stk.pop() + ' ' + chunk\n",
    "            print(chunk.strip())"
   ]
  },
  {
   "cell_type": "markdown",
   "id": "7e601b8d",
   "metadata": {},
   "source": [
    "## tuples"
   ]
  },
  {
   "cell_type": "code",
   "execution_count": null,
   "id": "7637c96b",
   "metadata": {},
   "outputs": [],
   "source": [
    "\"\"\"\n",
    "a tuple is an ordered collection of objects.\n",
    "tuples are immutable. once created it can not be changed.\n",
    "typically used to store collections of heterogeneous data.\n",
    "especially useful for holding properties of an object.\n",
    "\"\"\"\n",
    "\n",
    "# example of a simple tuple\n",
    "('Ford', 'Mustang', 1964)\n",
    "\n",
    "# example of a list of tuples\n",
    "# a to-do list with a tuple of time-task pairs\n",
    "[('8:00', 'Pay bills'), ('8:30', 'Tidy up'), ('9:30', 'Walk the dog'), ('10:00', 'Go to the pharmacy'), ('10:30', 'Cook dinner')]\n",
    "task_list = ['Pay bills', 'Tidy up', 'Walk the dog', 'Go to the pharmacy', 'Cook dinner']\n",
    "tm_list = ['8:00', '8:30', '9:30', '10:00', '10:30']\n",
    "sched_list = [(tm, task) for tm, task in zip(tm_list, task_list)]"
   ]
  }
 ],
 "metadata": {
  "kernelspec": {
   "display_name": ".venv",
   "language": "python",
   "name": "python3"
  },
  "language_info": {
   "codemirror_mode": {
    "name": "ipython",
    "version": 3
   },
   "file_extension": ".py",
   "mimetype": "text/x-python",
   "name": "python",
   "nbconvert_exporter": "python",
   "pygments_lexer": "ipython3",
   "version": "3.13.0rc2"
  }
 },
 "nbformat": 4,
 "nbformat_minor": 5
}
