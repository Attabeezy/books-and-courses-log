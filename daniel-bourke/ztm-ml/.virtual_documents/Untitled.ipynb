import pandas as pd


# 2 main datatypes
series = pd.Series(["BMW", "Toyota", "Honda"])


series


# serereis = 1 dimensional


colours = pd.Series(["Red", "Blue", "White"])
colours


# DataFrame = 2-dimensional
car_data = pd.DataFrame({"car_make": series, "colour":colours})
car_data


# Import data
car_sales = pd.read_csv("car-sales.csv")


# Exporting a dataframe
car_sales.to_csv("exported-car-sales.csv", index=False)


exported_car_sales = pd.read_csv("exported-car-sales.csv")
exported_car_sales





# Attribute
car_sales.dtypes

# Function
#car_sales.to_csv()


car_sales.columns


car_columns = car_sales.columns
car_columns


car_sales.index


car_sales


car_sales.describe() #describe() gives us info about numeric columns


car_sales.info()


car_sales[['Odometer (KM)', 'Doors']].mean()


car_sales[['Odometer (KM)', 'Doors']].sum()


len(car_sales)


car_sales





car_sales.head()


car_sales


car_sales.head(7)


car_sales.tail()


# .loc & .iloc
animals = pd.Series(["cat", "dog", "bird", "panda", "snake"], index=[0, 3, 9, 8, 3])


animals


animals.loc[3]


animals.loc[9]


car_sales


car_sales.loc[3]


# .iloc
animals.iloc[3]


car_sales.iloc[[3, 6]]


animals.iloc[:3]


car_sales.loc[:3]


car_sales.head(4)


car_sales['Make']


car_sales["Colour"]


car_sales.Make


car_sales["Make"]


car_sales.Odometer (KM)


car_sales["Odometer (KM)"]


car_sales[car_sales["Make"] == "Toyota"]


car_sales[car_sales['Odometer (KM)'] > 100000]


## timestamp 4:30:00



