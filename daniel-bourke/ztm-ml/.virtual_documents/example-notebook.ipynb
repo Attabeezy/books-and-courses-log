


print("Hello, world. I'm learning about the Jupyter Notebooks!")


a = 5


a = 6


a


1 + 1





import pandas as pd


df = pd.read_csv("heart.csv")





df.head(10)


df.target.value_counts().plot(kind = "bar")




































