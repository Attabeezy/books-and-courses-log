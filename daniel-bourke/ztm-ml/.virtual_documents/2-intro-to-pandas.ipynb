import pandas as pd


# 2 main datatypes
series = pd.Series(["BMW", "Toyota", "Honda"])


series


# serereis = 1 dimensional


colours = pd.Series(["Red", "Blue", "White"])
colours


# DataFrame = 2-dimensional
car_data = pd.DataFrame({"car_make": series, "colour":colours})
car_data


# Import data
car_sales = pd.read_csv("car-sales.csv")


# Exporting a dataframe
car_sales.to_csv("exported-car-sales.csv", index=False)


exported_car_sales = pd.read_csv("exported-car-sales.csv")
exported_car_sales





# Attribute
car_sales.dtypes

# Function
#car_sales.to_csv()


car_sales.columns


car_columns = car_sales.columns
car_columns


car_sales.index


car_sales


car_sales.describe() #describe() gives us info about numeric columns


car_sales.info()


car_sales[['Odometer (KM)', 'Doors']].mean()


car_sales[['Odometer (KM)', 'Doors']].sum()


len(car_sales)


car_sales





car_sales.head()


car_sales


car_sales.head(7)


car_sales.tail()


# .loc & .iloc
animals = pd.Series(["cat", "dog", "bird", "panda", "snake"], index=[0, 3, 9, 8, 3])


animals


animals.loc[3]


animals.loc[9]


car_sales


car_sales.loc[3]


# .iloc
animals.iloc[3]


car_sales.iloc[[3, 6]]


animals.iloc[:3]


car_sales.loc[:3]


car_sales.head(4)


car_sales['Make']


car_sales["Colour"]


car_sales.Make


car_sales["Make"]


#car_sales.Odometer (KM)


car_sales["Odometer (KM)"]


car_sales[car_sales["Make"] == "Toyota"]


car_sales[car_sales['Odometer (KM)'] > 100000]


pd.crosstab(car_sales["Make"], car_sales["Doors"])


car_sales.head()


# Groupby
car_sales.groupby(["Make"])[["Odometer (KM)", "Doors"]].median()


car_sales["Odometer (KM)"].plot()


car_sales["Odometer (KM)"].hist()


# car_sales["Price"].plot()


car_sales['Price'] = car_sales['Price'].replace("[$,.]", "", regex=True).astype(int)


car_sales['Price'] = car_sales['Price']/100


car_sales





car_sales["Make"].str.lower()


car_sales


car_sales["Make"] = car_sales["Make"].str.lower()


car_sales


car_sales_missing = pd.read_csv("car-sales-missing-data.csv")
car_sales_missing


car_sales_missing["Odometer"].fillna(car_sales_missing["Odometer"].mean())


car_sales_missing


car_sales_missing["Odometer"] = car_sales_missing["Odometer"].fillna(car_sales_missing["Odometer"].mean())


#car_sales_missing["Odometer"].fillna(car_sales_missing["Odometer"].mean(), inplace = True)


car_sales_missing


car_sales_missing.dropna(inplace = True)


car_sales_missing


car_sales_missing = pd.read_csv("car-sales-extended-missing-data.csv")


car_sales_missing_dropped = car_sales_missing.dropna()


car_sales_missing_dropped.to_csv("car-sales-missing-drop.csv")





# Column from series
seats_column = pd.Series([5, 5, 5, 5, 5])

# New columns called seats
car_sales["Seats"] = seats_column


car_sales


car_sales.fillna({"Seats": 5}, inplace=True)


car_sales


# column from Python List
fuel_economy = [7.5, 9.2, 5.0, 9.6, 8.7, 4.7, 7.6, 8.7, 3.0, 4.5]
car_sales["Fuel_per_100KM"] = fuel_economy



